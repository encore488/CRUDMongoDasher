{
 "cells": [
  {
   "cell_type": "code",
   "execution_count": 1,
   "metadata": {},
   "outputs": [
    {
     "data": {
      "text/html": [
       "<div>\n",
       "  <iframe src=\"/app/endpoints/48f7c71e186b4b04810481ac66eaec71/\" width=800 height=600 frameborder=\"0\"></iframe>\n",
       "  <hr/><a href=\"/app/endpoints/48f7c71e186b4b04810481ac66eaec71/\" target=\"_new\">Open in new window</a> for /app/endpoints/48f7c71e186b4b04810481ac66eaec71/\n",
       "</div>"
      ],
      "text/plain": [
       "<jupyter_plotly_dash.dash_wrapper.JupyterDash at 0x1044379d0>"
      ]
     },
     "execution_count": 1,
     "metadata": {},
     "output_type": "execute_result"
    }
   ],
   "source": [
    "# DASH Framework for Jupyter\n",
    "from jupyter_dash import JupyterDash\n",
    "from dash import dcc\n",
    "from dash import html\n",
    "from dash.dependencies import Input, Output\n",
    "\n",
    "# URL Lib to make sure that our input is 'sane'\n",
    "import urllib.parse\n",
    "\n",
    "from pyMongoCrud import AnimalShelter\n",
    "\n",
    "# Build App\n",
    "app = JupyterDash(__name__)\n",
    "app.layout = html.Div([\n",
    "    # This element generates an HTML Heading with your name\n",
    "    html.H1(\"Module 5 Asssignment - Christopher Williams\"),\n",
    "    # This Input statement sets up an Input field for the username.\n",
    "    dcc.Input(\n",
    "            id=\"input_user\".format(\"text\"),\n",
    "            type=\"text\",\n",
    "            placeholder=\"input type {}\".format(\"text\")),\n",
    "    # This Input statement sets up an Input field for the password.\n",
    "    # This designation masks the user input on the screen.\n",
    "    dcc.Input(\n",
    "            id=\"input_passwd\".format(\"password\"),\n",
    "            type=\"password\",\n",
    "            placeholder=\"input type {}\".format(\"password\")),\n",
    "    # Create a button labeled 'Submit'. When the button is pressed\n",
    "    # the n_clicks value will increment by 1. \n",
    "    html.Button('Submit', id='submit-val', n_clicks=0),\n",
    "    # Generate a horizontal line separating our input from our\n",
    "    # output element\n",
    "    html.Hr(),\n",
    "    # This sets up the output element for the dashboard. The\n",
    "    # purpose of the style option is to make sure that the \n",
    "    # output will function like a regular text area and accept\n",
    "    # newline ('\\n') characters as line-breaks.\n",
    "    html.Div(id=\"query-out\", style={'whiteSpace': 'pre-line'}),\n",
    "    html.Img()\n",
    "    \n",
    "])\n",
    "\n",
    "# Define callback to update output-block\n",
    "# NOTE: While the name of the callback function doesn't matter,\n",
    "# the order of the parameters in the callback function are the\n",
    "# same as the order of Input methods in the @app.callback\n",
    "# For the callback function below, the callback is grabing the\n",
    "# information from the input_user and input_password entries, and\n",
    "# then the value of the submit button (has it been pressed?)\n",
    "@app.callback(\n",
    "    Output('query-out', 'children'),\n",
    "    [Input('input_user', 'value'),\n",
    "     Input('input_passwd', 'value'),\n",
    "    Input(component_id='submit-val', component_property='n_clicks')]\n",
    ")\n",
    "def update_figure(inputUser,inputPass,n_clicks):\n",
    "    # This is used as a trigger to make sure that the callback doesn't\n",
    "    # try and connect to the database until after the submit button\n",
    "    # is pressed. Otherwise, every time a character was added to the \n",
    "    # username or password field, an attempt would be made to connect to \n",
    "    # the daabase with an incorrect username and password.\n",
    "    if n_clicks > 0:\n",
    "        ###########################\n",
    "        # Data Manipulation / Model\n",
    "        # use CRUD module to access MongoDB\n",
    "        ##########################\n",
    "        \n",
    "        # Use the URLLIB to setup the username and password so that they\n",
    "        # can be passed cleanly to the MongoDB handler.\n",
    "        username = urllib.parse.quote_plus(inputUser)\n",
    "        password = urllib.parse.quote_plus(inputPass)\n",
    "        \n",
    "        ## DEBUG STATEMENT - You can uncomment the next line to verify you\n",
    "        ## are correctly entering your username and password prior to continuing\n",
    "        ## to build the callback function.\n",
    "        ## return f'Output: {inputUser}, {inputPass}'\n",
    "\n",
    "        #TODO: Instantiate CRUD object with above authentication username and \n",
    "        # password values\n",
    "\n",
    "        #TODO: Return example query results. Note: The results returned have\n",
    "        # to be in the format of a string in order to display properly in the \n",
    "        # 'query-out' element. Please separate each result with a newline for\n",
    "        # readability\n",
    "\n",
    "\n",
    "# Run app and display result inline in the notebook\n",
    "app.run_server()\n"
   ]
  },
  {
   "cell_type": "code",
   "execution_count": null,
   "metadata": {},
   "outputs": [],
   "source": []
  }
 ],
 "metadata": {
  "kernelspec": {
   "display_name": "Python 3 (ipykernel)",
   "language": "python",
   "name": "python3"
  },
  "language_info": {
   "codemirror_mode": {
    "name": "ipython",
    "version": 3
   },
   "file_extension": ".py",
   "mimetype": "text/x-python",
   "name": "python",
   "nbconvert_exporter": "python",
   "pygments_lexer": "ipython3",
   "version": "3.9.6"
  }
 },
 "nbformat": 4,
 "nbformat_minor": 4
}
